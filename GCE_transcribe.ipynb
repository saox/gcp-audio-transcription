{
 "cells": [
  {
   "cell_type": "code",
   "execution_count": null,
   "metadata": {},
   "outputs": [],
   "source": [
    "import speech_recognition as sr\n",
    "import sys\n",
    "from os import path\n",
    "import os\n",
    "from moviepy.editor import *\n",
    "from google.protobuf.json_format import MessageToJson\n",
    "import json\n",
    "from google.cloud import speech_v1\n",
    "import pandas as pd\n",
    "from gcloud import storage\n",
    "\n",
    "def generateURIList():\n",
    "    uri_list = []    \n",
    "    client = storage.Client()\n",
    "    BUCKET_NAME = 'files_audio'\n",
    "    bucket = client.get_bucket(BUCKET_NAME)\n",
    "    blobs = bucket.list_blobs()\n",
    "\n",
    "    for key in blobs:\n",
    "        if \"wav/\" in key.name:\n",
    "            uri_list.append(key.name)\n",
    "    return(uri_list)\n",
    "\n",
    "os.environ[\"GOOGLE_APPLICATION_CREDENTIALS\"]=\"creds.json\"\n",
    "\n",
    "\n",
    "def sample_long_running_recognize(uri):\n",
    "    client = speech_v1.SpeechClient()\n",
    "    storage_uri = \"gs://files_audio/\" + uri\n",
    "    #wav/test_audio.wav'\n",
    "\n",
    "    # When enabled, the first result returned by the API will include a list\n",
    "    # of words and the start and end time offsets (timestamps) for those words.\n",
    "    enable_word_time_offsets = True\n",
    "\n",
    "    # The language of the supplied audio\n",
    "    language_code = \"en-US\"\n",
    "    config = {\n",
    "        \"enable_word_time_offsets\": enable_word_time_offsets,\n",
    "        \"language_code\": language_code,\n",
    "        \"audio_channel_count\" : 2\n",
    "    }\n",
    "    audio = {\"uri\": storage_uri}\n",
    "\n",
    "    operation = client.long_running_recognize(config, audio)\n",
    "\n",
    "    print(u\"Waiting for operation to complete...\")\n",
    "    response = operation.result()\n",
    "    return(response)"
   ]
  },
  {
   "cell_type": "code",
   "execution_count": null,
   "metadata": {},
   "outputs": [],
   "source": [
    "urilist = generateURIList()\n",
    "response = sample_long_running_recognize(urilist[-1])"
   ]
  },
  {
   "cell_type": "code",
   "execution_count": null,
   "metadata": {},
   "outputs": [],
   "source": [
    "serialized = MessageToJson(response)\n",
    "jsonOutput = json.loads(serialized)"
   ]
  },
  {
   "cell_type": "code",
   "execution_count": null,
   "metadata": {},
   "outputs": [],
   "source": [
    "#with open('sample.json') as json_file:\n",
    "#    data = json.load(json_file)"
   ]
  },
  {
   "cell_type": "code",
   "execution_count": null,
   "metadata": {},
   "outputs": [],
   "source": [
    "df = pd.DataFrame(columns=['filename','startTime','endTime','word'])\n",
    "\n",
    "for elem in jsonOutput['results']:\n",
    "    for word in elem['alternatives'][0]['words']:\n",
    "        startTime = word['startTime']\n",
    "        endTime = word['endTime']\n",
    "        slowo = word['word']\n",
    "        df = df.append({'filename':\"asd\", 'startTime':startTime, 'endTime':endTime, 'word':slowo},ignore_index=True)"
   ]
  },
  {
   "cell_type": "code",
   "execution_count": null,
   "metadata": {},
   "outputs": [],
   "source": [
    "df"
   ]
  }
 ],
 "metadata": {
  "kernelspec": {
   "display_name": "Python 3",
   "language": "python",
   "name": "python3"
  },
  "language_info": {
   "codemirror_mode": {
    "name": "ipython",
    "version": 3
   },
   "file_extension": ".py",
   "mimetype": "text/x-python",
   "name": "python",
   "nbconvert_exporter": "python",
   "pygments_lexer": "ipython3",
   "version": "3.7.3"
  }
 },
 "nbformat": 4,
 "nbformat_minor": 2
}
